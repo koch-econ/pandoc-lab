{
  "nbformat": 4,
  "nbformat_minor": 0,
  "metadata": {
    "colab": {
      "provenance": [],
      "authorship_tag": "ABX9TyNBlaerXXlWYh7uQcidMU8i",
      "include_colab_link": true
    },
    "kernelspec": {
      "name": "python3",
      "display_name": "Python 3"
    },
    "language_info": {
      "name": "python"
    }
  },
  "cells": [
    {
      "cell_type": "markdown",
      "metadata": {
        "id": "view-in-github",
        "colab_type": "text"
      },
      "source": [
        "<a href=\"https://colab.research.google.com/github/koch-econ/pandoc-lab/blob/main/python_and_files.ipynb\" target=\"_parent\"><img src=\"https://colab.research.google.com/assets/colab-badge.svg\" alt=\"Open In Colab\"/></a>"
      ]
    },
    {
      "cell_type": "code",
      "execution_count": null,
      "metadata": {
        "colab": {
          "base_uri": "https://localhost:8080/"
        },
        "id": "7_h4tIavsZcA",
        "outputId": "bf7a252e-140b-45b8-e85b-98d870ca347a"
      },
      "outputs": [
        {
          "output_type": "stream",
          "name": "stdout",
          "text": [
            "4\n"
          ]
        }
      ],
      "source": [
        "print(2+2)"
      ]
    },
    {
      "cell_type": "code",
      "source": [
        "%cd /content\n",
        "%ls sample_data"
      ],
      "metadata": {
        "colab": {
          "base_uri": "https://localhost:8080/"
        },
        "id": "PgMEA85ksiFh",
        "outputId": "590dfcc3-21eb-4571-ee40-72299ce65dee"
      },
      "execution_count": null,
      "outputs": [
        {
          "output_type": "stream",
          "name": "stdout",
          "text": [
            "/content\n",
            "\u001b[0m\u001b[01;32manscombe.json\u001b[0m*                mnist_test.csv\n",
            "california_housing_test.csv   mnist_train_small.csv\n",
            "california_housing_train.csv  \u001b[01;32mREADME.md\u001b[0m*\n"
          ]
        }
      ]
    },
    {
      "cell_type": "code",
      "source": [
        "!TZ=UTC-3 date"
      ],
      "metadata": {
        "colab": {
          "base_uri": "https://localhost:8080/"
        },
        "id": "AFX2jpXastL1",
        "outputId": "41a6be58-6ca6-435d-c017-d6d83e4840be"
      },
      "execution_count": null,
      "outputs": [
        {
          "output_type": "stream",
          "name": "stdout",
          "text": [
            "Sat Sep 16 02:34:35 PM UTC 2023\n"
          ]
        }
      ]
    },
    {
      "cell_type": "code",
      "source": [
        "!locale -a"
      ],
      "metadata": {
        "colab": {
          "base_uri": "https://localhost:8080/"
        },
        "id": "RscdPpyWtDZF",
        "outputId": "34e88e02-f13b-4b3f-864a-73e7fa5ec913"
      },
      "execution_count": null,
      "outputs": [
        {
          "output_type": "stream",
          "name": "stdout",
          "text": [
            "C\n",
            "C.utf8\n",
            "en_US.utf8\n",
            "POSIX\n"
          ]
        }
      ]
    },
    {
      "cell_type": "code",
      "source": [
        "%ls /content/sample_data"
      ],
      "metadata": {
        "colab": {
          "base_uri": "https://localhost:8080/"
        },
        "id": "thhYHQuitN89",
        "outputId": "47ab0a40-e40c-4483-eb2c-8676b5c85998"
      },
      "execution_count": null,
      "outputs": [
        {
          "output_type": "stream",
          "name": "stdout",
          "text": [
            "\u001b[0m\u001b[01;32manscombe.json\u001b[0m*                mnist_test.csv\n",
            "california_housing_test.csv   mnist_train_small.csv\n",
            "california_housing_train.csv  \u001b[01;32mREADME.md\u001b[0m*\n"
          ]
        }
      ]
    },
    {
      "cell_type": "code",
      "source": [
        "%%bash\n",
        "MYNAME=Ilya\n",
        "echo $MYNAME"
      ],
      "metadata": {
        "colab": {
          "base_uri": "https://localhost:8080/"
        },
        "id": "cl5Yq1kVx7Ij",
        "outputId": "f6d8547c-34f9-4412-a6f6-eaff9d5532b0"
      },
      "execution_count": null,
      "outputs": [
        {
          "output_type": "stream",
          "name": "stdout",
          "text": [
            "Ilya\n"
          ]
        }
      ]
    },
    {
      "cell_type": "code",
      "source": [
        "%%writefile  mytext.txt\n",
        "\n",
        "1. one\n",
        "2. two\n",
        "3. three"
      ],
      "metadata": {
        "colab": {
          "base_uri": "https://localhost:8080/"
        },
        "id": "sfKTqVEcyaxf",
        "outputId": "2b70f43f-ee2c-477a-a5ff-64d3a3b04114"
      },
      "execution_count": null,
      "outputs": [
        {
          "output_type": "stream",
          "name": "stdout",
          "text": [
            "Writing mytext.txt\n"
          ]
        }
      ]
    },
    {
      "cell_type": "code",
      "source": [
        "%less mytext.txt"
      ],
      "metadata": {
        "id": "GRrJ2LW-yvMS"
      },
      "execution_count": null,
      "outputs": []
    },
    {
      "cell_type": "code",
      "source": [
        "%magic"
      ],
      "metadata": {
        "id": "TVYAreWoyIpo"
      },
      "execution_count": null,
      "outputs": []
    },
    {
      "cell_type": "code",
      "source": [
        "!git --version"
      ],
      "metadata": {
        "colab": {
          "base_uri": "https://localhost:8080/"
        },
        "id": "Ofsmdp-OuSPW",
        "outputId": "0ecd8ff3-2955-4235-e121-6c172ebda5a5"
      },
      "execution_count": null,
      "outputs": [
        {
          "output_type": "stream",
          "name": "stdout",
          "text": [
            "git version 2.34.1\n"
          ]
        }
      ]
    },
    {
      "cell_type": "code",
      "source": [
        "!git clone https://github.com/koch-econ/pandoc-lab"
      ],
      "metadata": {
        "colab": {
          "base_uri": "https://localhost:8080/"
        },
        "id": "l6Iq5N8auoDs",
        "outputId": "570ddec9-c73a-477f-c463-871ee68b565e"
      },
      "execution_count": null,
      "outputs": [
        {
          "output_type": "stream",
          "name": "stdout",
          "text": [
            "Cloning into 'pandoc-lab'...\n",
            "remote: Enumerating objects: 119, done.\u001b[K\n",
            "remote: Counting objects: 100% (119/119), done.\u001b[K\n",
            "remote: Compressing objects: 100% (85/85), done.\u001b[K\n",
            "remote: Total 119 (delta 44), reused 93 (delta 28), pack-reused 0\u001b[K\n",
            "Receiving objects: 100% (119/119), 6.83 MiB | 30.67 MiB/s, done.\n",
            "Resolving deltas: 100% (44/44), done.\n"
          ]
        }
      ]
    },
    {
      "cell_type": "code",
      "source": [
        "!ls"
      ],
      "metadata": {
        "colab": {
          "base_uri": "https://localhost:8080/"
        },
        "id": "2bGOmsa0u2nY",
        "outputId": "54ac7ba0-92f0-478d-8259-fce46a4ea3ce"
      },
      "execution_count": null,
      "outputs": [
        {
          "output_type": "stream",
          "name": "stdout",
          "text": [
            "pandoc-lab  sample_data\n"
          ]
        }
      ]
    },
    {
      "cell_type": "code",
      "source": [
        "# %cd pandoc-lab/\n",
        "%ls"
      ],
      "metadata": {
        "colab": {
          "base_uri": "https://localhost:8080/"
        },
        "id": "XSGFnKkavA5E",
        "outputId": "a98fc120-30ee-4580-bb34-ba5689b9610c"
      },
      "execution_count": null,
      "outputs": [
        {
          "output_type": "stream",
          "name": "stdout",
          "text": [
            "2nd.md  \u001b[0m\u001b[01;34mout\u001b[0m/  pres_template_md.py  README.html  README.pptx  \u001b[01;34mtemplate\u001b[0m/\n",
            "\u001b[01;34mcsv\u001b[0m/    \u001b[01;34mpic\u001b[0m/  \u001b[01;34mpy\u001b[0m/                  README.md    \u001b[01;34msh\u001b[0m/\n"
          ]
        }
      ]
    },
    {
      "cell_type": "code",
      "source": [
        "%less csv/wb.csv"
      ],
      "metadata": {
        "id": "bD8EARbPvKMV"
      },
      "execution_count": null,
      "outputs": []
    },
    {
      "cell_type": "code",
      "source": [
        "%cd csv"
      ],
      "metadata": {
        "colab": {
          "base_uri": "https://localhost:8080/"
        },
        "id": "dvXuhLSivhaV",
        "outputId": "79d3df91-b9e0-478d-ef8a-32b93da2570d"
      },
      "execution_count": null,
      "outputs": [
        {
          "output_type": "stream",
          "name": "stdout",
          "text": [
            "/content/pandoc-lab/csv\n"
          ]
        }
      ]
    },
    {
      "cell_type": "code",
      "source": [
        "%cp wb.csv wb2.csv"
      ],
      "metadata": {
        "id": "fWKaMbTYvnao"
      },
      "execution_count": null,
      "outputs": []
    },
    {
      "cell_type": "code",
      "source": [
        "%ls"
      ],
      "metadata": {
        "colab": {
          "base_uri": "https://localhost:8080/"
        },
        "id": "0yoioUCJvtty",
        "outputId": "538bb5f1-27a0-4efb-a2b6-3708dd3aa395"
      },
      "execution_count": null,
      "outputs": [
        {
          "output_type": "stream",
          "name": "stdout",
          "text": [
            "wb2.csv  wb.csv  wb_dquotes.csv  wb_wo_dquotes.csv\n"
          ]
        }
      ]
    },
    {
      "cell_type": "code",
      "source": [
        "!tree /content/"
      ],
      "metadata": {
        "colab": {
          "base_uri": "https://localhost:8080/"
        },
        "id": "jhny0Fy0vvJE",
        "outputId": "9e26a768-fd8a-404f-dc22-0c2cc53e586b"
      },
      "execution_count": null,
      "outputs": [
        {
          "output_type": "stream",
          "name": "stdout",
          "text": [
            "\u001b[01;34m/content/\u001b[0m\n",
            "├── \u001b[00mmytext.txt\u001b[0m\n",
            "├── \u001b[01;34mpandoc-lab\u001b[0m\n",
            "│   ├── \u001b[00m2nd.md\u001b[0m\n",
            "│   ├── \u001b[01;34mcsv\u001b[0m\n",
            "│   │   ├── \u001b[00mwb2.csv\u001b[0m\n",
            "│   │   ├── \u001b[00mwb.csv\u001b[0m\n",
            "│   │   ├── \u001b[00mwb_dquotes.csv\u001b[0m\n",
            "│   │   └── \u001b[00mwb_wo_dquotes.csv\u001b[0m\n",
            "│   ├── \u001b[01;34mout\u001b[0m\n",
            "│   │   ├── \u001b[00m~$slides_obrazec_ver_1.pptx\u001b[0m\n",
            "│   │   ├── \u001b[00mslides.html\u001b[0m\n",
            "│   │   ├── \u001b[00mslides.md\u001b[0m\n",
            "│   │   ├── \u001b[00mslides_obrazec_ver_1.html\u001b[0m\n",
            "│   │   ├── \u001b[00mslides_obrazec_ver_1.pptx\u001b[0m\n",
            "│   │   ├── \u001b[00mslides.pptx\u001b[0m\n",
            "│   │   ├── \u001b[00mslides_v2.html\u001b[0m\n",
            "│   │   ├── \u001b[00mslides_v2.md\u001b[0m\n",
            "│   │   ├── \u001b[00mslides_v2.pptx\u001b[0m\n",
            "│   │   └── \u001b[00mslides_ver1.html\u001b[0m\n",
            "│   ├── \u001b[01;34mpic\u001b[0m\n",
            "│   │   ├── \u001b[00m13883932.png\u001b[0m\n",
            "│   │   ├── \u001b[00m65374769.png\u001b[0m\n",
            "│   │   ├── \u001b[00m70598275.png\u001b[0m\n",
            "│   │   ├── \u001b[00m8483040.png\u001b[0m\n",
            "│   │   ├── \u001b[01;35mcategory_5.jpeg\u001b[0m\n",
            "│   │   └── \u001b[01;35mcategory_6.jpeg\u001b[0m\n",
            "│   ├── \u001b[00mpres_template_md.py\u001b[0m\n",
            "│   ├── \u001b[01;34mpy\u001b[0m\n",
            "│   │   ├── \u001b[00mdata_source_ver_1.py\u001b[0m\n",
            "│   │   └── \u001b[00mpython-lab-practical-project.ipynb\u001b[0m\n",
            "│   ├── \u001b[00mREADME.html\u001b[0m\n",
            "│   ├── \u001b[00mREADME.md\u001b[0m\n",
            "│   ├── \u001b[00mREADME.pptx\u001b[0m\n",
            "│   ├── \u001b[01;34msh\u001b[0m\n",
            "│   │   ├── \u001b[00maddr.txt\u001b[0m\n",
            "│   │   ├── \u001b[00mbash_adv.ipynb\u001b[0m\n",
            "│   │   ├── \u001b[00mcat.txt\u001b[0m\n",
            "│   │   ├── \u001b[00menv.sh\u001b[0m\n",
            "│   │   └── \u001b[00mREADME.md\u001b[0m\n",
            "│   └── \u001b[01;34mtemplate\u001b[0m\n",
            "│       ├── \u001b[00mcategory_ver_1.md\u001b[0m\n",
            "│       └── \u001b[00mslides_ver_1.md\u001b[0m\n",
            "└── \u001b[01;34msample_data\u001b[0m\n",
            "    ├── \u001b[01;32manscombe.json\u001b[0m\n",
            "    ├── \u001b[00mcalifornia_housing_test.csv\u001b[0m\n",
            "    ├── \u001b[00mcalifornia_housing_train.csv\u001b[0m\n",
            "    ├── \u001b[00mmnist_test.csv\u001b[0m\n",
            "    ├── \u001b[00mmnist_train_small.csv\u001b[0m\n",
            "    └── \u001b[01;32mREADME.md\u001b[0m\n",
            "\n",
            "8 directories, 41 files\n"
          ]
        }
      ]
    },
    {
      "cell_type": "code",
      "source": [
        "!apt install tree"
      ],
      "metadata": {
        "colab": {
          "base_uri": "https://localhost:8080/"
        },
        "id": "rcx1mCLTvzTj",
        "outputId": "221225c5-1c73-4686-e316-54aae3ef1846"
      },
      "execution_count": null,
      "outputs": [
        {
          "output_type": "stream",
          "name": "stdout",
          "text": [
            "Reading package lists... Done\n",
            "Building dependency tree... Done\n",
            "Reading state information... Done\n",
            "tree is already the newest version (2.0.2-1).\n",
            "0 upgraded, 0 newly installed, 0 to remove and 17 not upgraded.\n"
          ]
        }
      ]
    },
    {
      "cell_type": "code",
      "source": [
        "!tree /content"
      ],
      "metadata": {
        "colab": {
          "base_uri": "https://localhost:8080/"
        },
        "id": "HjgNvMrzv2sX",
        "outputId": "28b9005d-5689-4c23-ee9a-202d7591859c"
      },
      "execution_count": null,
      "outputs": [
        {
          "output_type": "stream",
          "name": "stdout",
          "text": [
            "\u001b[01;34m/content\u001b[0m\n",
            "├── \u001b[01;34mpandoc-lab\u001b[0m\n",
            "│   ├── \u001b[00m2nd.md\u001b[0m\n",
            "│   ├── \u001b[01;34mcsv\u001b[0m\n",
            "│   │   ├── \u001b[00mwb2.csv\u001b[0m\n",
            "│   │   ├── \u001b[00mwb.csv\u001b[0m\n",
            "│   │   ├── \u001b[00mwb_dquotes.csv\u001b[0m\n",
            "│   │   └── \u001b[00mwb_wo_dquotes.csv\u001b[0m\n",
            "│   ├── \u001b[01;34mout\u001b[0m\n",
            "│   │   ├── \u001b[00m~$slides_obrazec_ver_1.pptx\u001b[0m\n",
            "│   │   ├── \u001b[00mslides.html\u001b[0m\n",
            "│   │   ├── \u001b[00mslides.md\u001b[0m\n",
            "│   │   ├── \u001b[00mslides_obrazec_ver_1.html\u001b[0m\n",
            "│   │   ├── \u001b[00mslides_obrazec_ver_1.pptx\u001b[0m\n",
            "│   │   ├── \u001b[00mslides.pptx\u001b[0m\n",
            "│   │   ├── \u001b[00mslides_v2.html\u001b[0m\n",
            "│   │   ├── \u001b[00mslides_v2.md\u001b[0m\n",
            "│   │   ├── \u001b[00mslides_v2.pptx\u001b[0m\n",
            "│   │   └── \u001b[00mslides_ver1.html\u001b[0m\n",
            "│   ├── \u001b[01;34mpic\u001b[0m\n",
            "│   │   ├── \u001b[00m13883932.png\u001b[0m\n",
            "│   │   ├── \u001b[00m65374769.png\u001b[0m\n",
            "│   │   ├── \u001b[00m70598275.png\u001b[0m\n",
            "│   │   ├── \u001b[00m8483040.png\u001b[0m\n",
            "│   │   ├── \u001b[01;35mcategory_5.jpeg\u001b[0m\n",
            "│   │   └── \u001b[01;35mcategory_6.jpeg\u001b[0m\n",
            "│   ├── \u001b[00mpres_template_md.py\u001b[0m\n",
            "│   ├── \u001b[01;34mpy\u001b[0m\n",
            "│   │   ├── \u001b[00mdata_source_ver_1.py\u001b[0m\n",
            "│   │   └── \u001b[00mpython-lab-practical-project.ipynb\u001b[0m\n",
            "│   ├── \u001b[00mREADME.html\u001b[0m\n",
            "│   ├── \u001b[00mREADME.md\u001b[0m\n",
            "│   ├── \u001b[00mREADME.pptx\u001b[0m\n",
            "│   ├── \u001b[01;34msh\u001b[0m\n",
            "│   │   ├── \u001b[00maddr.txt\u001b[0m\n",
            "│   │   ├── \u001b[00mbash_adv.ipynb\u001b[0m\n",
            "│   │   ├── \u001b[00mcat.txt\u001b[0m\n",
            "│   │   ├── \u001b[00menv.sh\u001b[0m\n",
            "│   │   └── \u001b[00mREADME.md\u001b[0m\n",
            "│   └── \u001b[01;34mtemplate\u001b[0m\n",
            "│       ├── \u001b[00mcategory_ver_1.md\u001b[0m\n",
            "│       └── \u001b[00mslides_ver_1.md\u001b[0m\n",
            "└── \u001b[01;34msample_data\u001b[0m\n",
            "    ├── \u001b[01;32manscombe.json\u001b[0m\n",
            "    ├── \u001b[00mcalifornia_housing_test.csv\u001b[0m\n",
            "    ├── \u001b[00mcalifornia_housing_train.csv\u001b[0m\n",
            "    ├── \u001b[00mmnist_test.csv\u001b[0m\n",
            "    ├── \u001b[00mmnist_train_small.csv\u001b[0m\n",
            "    └── \u001b[01;32mREADME.md\u001b[0m\n",
            "\n",
            "8 directories, 40 files\n"
          ]
        }
      ]
    },
    {
      "cell_type": "code",
      "source": [
        "%pwd"
      ],
      "metadata": {
        "colab": {
          "base_uri": "https://localhost:8080/",
          "height": 35
        },
        "id": "ZpzUH8fhv8I2",
        "outputId": "4f89aabb-c053-4932-b9b5-4d770ec351f7"
      },
      "execution_count": null,
      "outputs": [
        {
          "output_type": "execute_result",
          "data": {
            "text/plain": [
              "'/content/pandoc-lab/csv'"
            ],
            "application/vnd.google.colaboratory.intrinsic+json": {
              "type": "string"
            }
          },
          "metadata": {},
          "execution_count": 38
        }
      ]
    },
    {
      "cell_type": "code",
      "source": [
        "%ls pandoc-lab/py/"
      ],
      "metadata": {
        "colab": {
          "base_uri": "https://localhost:8080/"
        },
        "id": "Vt5M7xP3wgqZ",
        "outputId": "ace5789c-8bcd-4d84-f414-95e18902cf6f"
      },
      "execution_count": null,
      "outputs": [
        {
          "output_type": "stream",
          "name": "stdout",
          "text": [
            "data_source_ver_1.py  python-lab-practical-project.ipynb\n"
          ]
        }
      ]
    },
    {
      "cell_type": "code",
      "source": [
        "%pycat pandoc-lab/py/data_source_ver_1.py"
      ],
      "metadata": {
        "id": "eN8m-yeIzaZV"
      },
      "execution_count": null,
      "outputs": []
    },
    {
      "cell_type": "code",
      "source": [
        "%cd pandoc-lab/py/"
      ],
      "metadata": {
        "colab": {
          "base_uri": "https://localhost:8080/"
        },
        "id": "c291jjLLzhJ0",
        "outputId": "8ebbf914-8522-49ad-be06-027b56e431eb"
      },
      "execution_count": null,
      "outputs": [
        {
          "output_type": "stream",
          "name": "stdout",
          "text": [
            "/content/pandoc-lab/py\n"
          ]
        }
      ]
    },
    {
      "cell_type": "code",
      "source": [
        "%%file demo.py\n",
        "name='Ilya'\n",
        "print('Hello',name,'!')"
      ],
      "metadata": {
        "colab": {
          "base_uri": "https://localhost:8080/"
        },
        "id": "N64rLxpNzy3l",
        "outputId": "409d91c0-425a-406a-82f3-18489baf3169"
      },
      "execution_count": null,
      "outputs": [
        {
          "output_type": "stream",
          "name": "stdout",
          "text": [
            "Writing demo.py\n"
          ]
        }
      ]
    },
    {
      "cell_type": "code",
      "source": [
        "%run demo.py"
      ],
      "metadata": {
        "colab": {
          "base_uri": "https://localhost:8080/"
        },
        "id": "iYSyk6nlz-s0",
        "outputId": "7b42d6d6-128c-447f-e547-11a67d96d259"
      },
      "execution_count": null,
      "outputs": [
        {
          "output_type": "stream",
          "name": "stdout",
          "text": [
            "Hello Ilya !\n"
          ]
        }
      ]
    },
    {
      "cell_type": "code",
      "source": [
        "%loadpy demo.py"
      ],
      "metadata": {
        "id": "VsKyIuv80EjY"
      },
      "execution_count": null,
      "outputs": []
    },
    {
      "cell_type": "markdown",
      "source": [
        "# Python review\n",
        "\n",
        "* Переменные\n",
        "* Типы\n",
        "* Изменяемые и не изменяемые"
      ],
      "metadata": {
        "id": "jjADe04Q1Nyx"
      }
    },
    {
      "cell_type": "code",
      "source": [
        "x1=0\n",
        "y1=1\n",
        "x2=2\n",
        "y2=1\n",
        "\n",
        "dx = x2-x1\n",
        "dy = y2-y1\n",
        "\n",
        "dist= (dx**2 + dy**2)**(1/2)\n",
        "\n",
        "print(dist)"
      ],
      "metadata": {
        "colab": {
          "base_uri": "https://localhost:8080/"
        },
        "id": "trm212zw03Mf",
        "outputId": "1381a1be-dfe9-4a85-9960-8e7969a67750"
      },
      "execution_count": null,
      "outputs": [
        {
          "output_type": "stream",
          "name": "stdout",
          "text": [
            "2.0\n"
          ]
        }
      ]
    },
    {
      "cell_type": "code",
      "source": [
        "def distance(px1,py1,px2,py2):\n",
        "  ldx = px2-px1\n",
        "  ldy = py2-py1\n",
        "  dist= (ldx**2 + ldy**2)**(1/2)\n",
        "  return dist\n",
        "\n",
        "x1=0\n",
        "y1=1\n",
        "x2=2\n",
        "y2=1\n",
        "\n",
        "\n",
        "# positional\n",
        "print(distance(x1,y1,x2,y2))\n",
        "\n",
        "\n",
        "print(distance(2,3,3,2))\n",
        "\n",
        "\n",
        "\n",
        "print(distance(0,0,1,1))\n",
        "\n",
        "\n",
        "print(distance(px1=x1,py1=y1,px2=x2,py2=y2))\n",
        "# by name\n",
        "print(distance(py1=y1,py2=y2, px1=x1,px2=x2))"
      ],
      "metadata": {
        "colab": {
          "base_uri": "https://localhost:8080/"
        },
        "id": "CA-1y5AP1BfQ",
        "outputId": "9d28d24d-febc-449d-db3d-84dfbbbad608"
      },
      "execution_count": null,
      "outputs": [
        {
          "output_type": "stream",
          "name": "stdout",
          "text": [
            "2.0\n",
            "1.4142135623730951\n",
            "1.4142135623730951\n",
            "2.0\n",
            "2.0\n"
          ]
        }
      ]
    },
    {
      "cell_type": "code",
      "source": [
        "type(x1)"
      ],
      "metadata": {
        "colab": {
          "base_uri": "https://localhost:8080/"
        },
        "id": "sDtsWiuB4k8U",
        "outputId": "6d7e097f-4781-4356-b2ea-a62ccb48dd2c"
      },
      "execution_count": null,
      "outputs": [
        {
          "output_type": "execute_result",
          "data": {
            "text/plain": [
              "int"
            ]
          },
          "metadata": {},
          "execution_count": 71
        }
      ]
    },
    {
      "cell_type": "code",
      "source": [
        "type(distance(py1=y1,py2=y2, px1=x1,px2=x2))"
      ],
      "metadata": {
        "colab": {
          "base_uri": "https://localhost:8080/"
        },
        "id": "afz5qNAi6IFE",
        "outputId": "24a9c335-19fe-4e1e-9f8b-35f4563b3952"
      },
      "execution_count": null,
      "outputs": [
        {
          "output_type": "execute_result",
          "data": {
            "text/plain": [
              "float"
            ]
          },
          "metadata": {},
          "execution_count": 72
        }
      ]
    },
    {
      "cell_type": "code",
      "source": [
        "proverka1=x1>2"
      ],
      "metadata": {
        "id": "2SINQ8pR6MDI"
      },
      "execution_count": null,
      "outputs": []
    },
    {
      "cell_type": "code",
      "source": [
        "type(proverka1)"
      ],
      "metadata": {
        "colab": {
          "base_uri": "https://localhost:8080/"
        },
        "id": "Sehxw6o96Sd5",
        "outputId": "5a76f978-ed10-4977-87f3-a610b781ca18"
      },
      "execution_count": null,
      "outputs": [
        {
          "output_type": "execute_result",
          "data": {
            "text/plain": [
              "bool"
            ]
          },
          "metadata": {},
          "execution_count": 75
        }
      ]
    },
    {
      "cell_type": "code",
      "source": [
        "type(True)"
      ],
      "metadata": {
        "colab": {
          "base_uri": "https://localhost:8080/"
        },
        "id": "jDB4CWq06Uta",
        "outputId": "3c02b4d5-3c6b-46e7-c16d-2360f0a98ca0"
      },
      "execution_count": null,
      "outputs": [
        {
          "output_type": "execute_result",
          "data": {
            "text/plain": [
              "bool"
            ]
          },
          "metadata": {},
          "execution_count": 76
        }
      ]
    },
    {
      "cell_type": "code",
      "source": [
        "type(False)"
      ],
      "metadata": {
        "colab": {
          "base_uri": "https://localhost:8080/"
        },
        "id": "9fWzt1hi6ce4",
        "outputId": "91bcc80c-d0af-470a-cc3b-691b8f56d42c"
      },
      "execution_count": null,
      "outputs": [
        {
          "output_type": "execute_result",
          "data": {
            "text/plain": [
              "bool"
            ]
          },
          "metadata": {},
          "execution_count": 77
        }
      ]
    },
    {
      "cell_type": "code",
      "source": [
        "proverka1"
      ],
      "metadata": {
        "colab": {
          "base_uri": "https://localhost:8080/"
        },
        "id": "0VBTjX-46ge_",
        "outputId": "5baa4dc9-3121-417b-b809-ed15463098ba"
      },
      "execution_count": null,
      "outputs": [
        {
          "output_type": "execute_result",
          "data": {
            "text/plain": [
              "False"
            ]
          },
          "metadata": {},
          "execution_count": 78
        }
      ]
    },
    {
      "cell_type": "code",
      "source": [
        "x1"
      ],
      "metadata": {
        "colab": {
          "base_uri": "https://localhost:8080/"
        },
        "id": "x2UT706e6sBU",
        "outputId": "a67dc001-da4b-473f-8e88-9ccbb036f2e3"
      },
      "execution_count": null,
      "outputs": [
        {
          "output_type": "execute_result",
          "data": {
            "text/plain": [
              "0"
            ]
          },
          "metadata": {},
          "execution_count": 79
        }
      ]
    },
    {
      "cell_type": "code",
      "source": [
        "int(True)"
      ],
      "metadata": {
        "colab": {
          "base_uri": "https://localhost:8080/"
        },
        "id": "BW-YzBJy6tQF",
        "outputId": "0b970f7e-bf3c-4adb-d2df-19b28704d73d"
      },
      "execution_count": null,
      "outputs": [
        {
          "output_type": "execute_result",
          "data": {
            "text/plain": [
              "1"
            ]
          },
          "metadata": {},
          "execution_count": 80
        }
      ]
    },
    {
      "cell_type": "code",
      "source": [
        "int(False)"
      ],
      "metadata": {
        "colab": {
          "base_uri": "https://localhost:8080/"
        },
        "id": "BGvEMSUf600i",
        "outputId": "fedd8067-2171-4c88-9d8e-3fe7b3d0e864"
      },
      "execution_count": null,
      "outputs": [
        {
          "output_type": "execute_result",
          "data": {
            "text/plain": [
              "0"
            ]
          },
          "metadata": {},
          "execution_count": 81
        }
      ]
    },
    {
      "cell_type": "code",
      "source": [
        "type(\"Text\")"
      ],
      "metadata": {
        "colab": {
          "base_uri": "https://localhost:8080/"
        },
        "id": "yNgDA_0b64Tq",
        "outputId": "51d12c56-c50b-4650-d3cd-aa22a0035c18"
      },
      "execution_count": null,
      "outputs": [
        {
          "output_type": "execute_result",
          "data": {
            "text/plain": [
              "str"
            ]
          },
          "metadata": {},
          "execution_count": 82
        }
      ]
    },
    {
      "cell_type": "code",
      "source": [
        "str(22/2)"
      ],
      "metadata": {
        "colab": {
          "base_uri": "https://localhost:8080/",
          "height": 35
        },
        "id": "WheXQR7s69ac",
        "outputId": "5bb680f4-b83c-4e56-cf3b-0340c66f2a3a"
      },
      "execution_count": null,
      "outputs": [
        {
          "output_type": "execute_result",
          "data": {
            "text/plain": [
              "'11.0'"
            ],
            "application/vnd.google.colaboratory.intrinsic+json": {
              "type": "string"
            }
          },
          "metadata": {},
          "execution_count": 83
        }
      ]
    },
    {
      "cell_type": "code",
      "source": [
        "def distance(px1,py1,px2,py2):\n",
        "  ldx = px2-px1\n",
        "  ldy = py2-py1\n",
        "  dist= (ldx**2 + ldy**2)**(1/2)\n",
        "  return dist\n",
        "\n",
        "p1=(0,1); p2=(2,1)\n",
        "\n",
        "def p_distance(p1,p2):\n",
        "  ldx = p2[0]-p1[0]\n",
        "  ldy = p2[1]-p1[1]\n",
        "  dist= (ldx**2 + ldy**2)**(1/2)\n",
        "  return dist\n",
        "\n",
        "# positional\n",
        "print(distance(p1[0],p1[1],p2[0],p2[1]))\n",
        "print(p_distance(p1,p2))\n",
        "\n",
        "print(distance(2,3,3,2))\n",
        "\n",
        "\n",
        "\n",
        "print(distance(0,0,1,1))\n",
        "\n",
        "\n",
        "print(distance(px1=x1,py1=y1,px2=x2,py2=y2))\n",
        "# by name\n",
        "print(distance(py1=y1,py2=y2, px1=x1,px2=x2))"
      ],
      "metadata": {
        "colab": {
          "base_uri": "https://localhost:8080/"
        },
        "id": "BKEmkGWc7qMN",
        "outputId": "1cf0bf19-8324-46cd-a493-7c3b5537ac29"
      },
      "execution_count": null,
      "outputs": [
        {
          "output_type": "stream",
          "name": "stdout",
          "text": [
            "2.0\n",
            "2.0\n",
            "1.4142135623730951\n",
            "1.4142135623730951\n",
            "2.0\n",
            "2.0\n"
          ]
        }
      ]
    },
    {
      "cell_type": "code",
      "source": [
        "type(p1)"
      ],
      "metadata": {
        "colab": {
          "base_uri": "https://localhost:8080/"
        },
        "id": "kyAs22hc9xp1",
        "outputId": "f9e02602-4432-469f-d074-f38ae3959cb6"
      },
      "execution_count": null,
      "outputs": [
        {
          "output_type": "execute_result",
          "data": {
            "text/plain": [
              "tuple"
            ]
          },
          "metadata": {},
          "execution_count": 88
        }
      ]
    },
    {
      "cell_type": "code",
      "source": [],
      "metadata": {
        "id": "0gsM0WmZ9z40"
      },
      "execution_count": null,
      "outputs": []
    }
  ]
}