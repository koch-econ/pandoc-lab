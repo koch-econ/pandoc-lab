{
  "nbformat": 4,
  "nbformat_minor": 0,
  "metadata": {
    "colab": {
      "provenance": [],
      "authorship_tag": "ABX9TyOCdXUYD4jxctgixz6OPOyG",
      "include_colab_link": true
    },
    "kernelspec": {
      "name": "python3",
      "display_name": "Python 3"
    },
    "language_info": {
      "name": "python"
    }
  },
  "cells": [
    {
      "cell_type": "markdown",
      "metadata": {
        "id": "view-in-github",
        "colab_type": "text"
      },
      "source": [
        "<a href=\"https://colab.research.google.com/github/koch-econ/pandoc-lab/blob/main/PyRforM_week3_Python_basics.ipynb\" target=\"_parent\"><img src=\"https://colab.research.google.com/assets/colab-badge.svg\" alt=\"Open In Colab\"/></a>"
      ]
    },
    {
      "cell_type": "markdown",
      "source": [
        "# Python - основы\n",
        "\n",
        "* Переменные\n",
        "* Типы\n",
        "* Изменяемые и не изменяемые"
      ],
      "metadata": {
        "id": "jjADe04Q1Nyx"
      }
    },
    {
      "cell_type": "markdown",
      "source": [
        "# Переменные\n",
        "\n",
        "> <u>Переменная</u>  хранит ссылку на объект (id объекта) и позволяет обращаться к объекту по имени\n",
        "\n",
        "\n",
        "\n",
        "[ProProProgs.RU](https://proproprogs.ru/python_base/python3-peremennye-operator-prisvaivaniya-funkcii-type-i-id)\n",
        "\n",
        "\n",
        "* Во время выполнения программы переменная может получать ссылку на другие объекты.\n",
        "\n",
        "* Объект, на который никто не ссылается уничтожается *сборщиком мусора*  и больше не занимает оперативную память *процесса* (выполняемой программы).\n",
        "\n",
        "* На один объект могут ссылаться многие переменные"
      ],
      "metadata": {
        "id": "f28SVR0EtszO"
      }
    },
    {
      "cell_type": "code",
      "source": [
        "x1=0\n",
        "y1=1\n",
        "x2=2\n",
        "y2=1\n",
        "\n",
        "dx = x2-x1\n",
        "dy = y2-y1\n",
        "\n",
        "dist= (dx**2 + dy**2)**(1/2)\n",
        "\n",
        "print(dist)"
      ],
      "metadata": {
        "colab": {
          "base_uri": "https://localhost:8080/"
        },
        "id": "trm212zw03Mf",
        "outputId": "1381a1be-dfe9-4a85-9960-8e7969a67750"
      },
      "execution_count": null,
      "outputs": [
        {
          "output_type": "stream",
          "name": "stdout",
          "text": [
            "2.0\n"
          ]
        }
      ]
    },
    {
      "cell_type": "code",
      "source": [
        "def distance(px1,py1,px2,py2):\n",
        "  ldx = px2-px1\n",
        "  ldy = py2-py1\n",
        "  dist= (ldx**2 + ldy**2)**(1/2)\n",
        "  return dist\n",
        "\n",
        "x1=0\n",
        "y1=1\n",
        "x2=2\n",
        "y2=1\n",
        "\n",
        "\n",
        "# positional\n",
        "print(distance(x1,y1,x2,y2))\n",
        "\n",
        "\n",
        "print(distance(2,3,3,2))\n",
        "\n",
        "\n",
        "\n",
        "print(distance(0,0,1,1))\n",
        "\n",
        "\n",
        "print(distance(px1=x1,py1=y1,px2=x2,py2=y2))\n",
        "# by name\n",
        "print(distance(py1=y1,py2=y2, px1=x1,px2=x2))"
      ],
      "metadata": {
        "colab": {
          "base_uri": "https://localhost:8080/"
        },
        "id": "CA-1y5AP1BfQ",
        "outputId": "9d28d24d-febc-449d-db3d-84dfbbbad608"
      },
      "execution_count": null,
      "outputs": [
        {
          "output_type": "stream",
          "name": "stdout",
          "text": [
            "2.0\n",
            "1.4142135623730951\n",
            "1.4142135623730951\n",
            "2.0\n",
            "2.0\n"
          ]
        }
      ]
    },
    {
      "cell_type": "code",
      "source": [
        "type(x1)"
      ],
      "metadata": {
        "colab": {
          "base_uri": "https://localhost:8080/"
        },
        "id": "sDtsWiuB4k8U",
        "outputId": "6d7e097f-4781-4356-b2ea-a62ccb48dd2c"
      },
      "execution_count": null,
      "outputs": [
        {
          "output_type": "execute_result",
          "data": {
            "text/plain": [
              "int"
            ]
          },
          "metadata": {},
          "execution_count": 71
        }
      ]
    },
    {
      "cell_type": "code",
      "source": [
        "type(distance(py1=y1,py2=y2, px1=x1,px2=x2))"
      ],
      "metadata": {
        "colab": {
          "base_uri": "https://localhost:8080/"
        },
        "id": "afz5qNAi6IFE",
        "outputId": "24a9c335-19fe-4e1e-9f8b-35f4563b3952"
      },
      "execution_count": null,
      "outputs": [
        {
          "output_type": "execute_result",
          "data": {
            "text/plain": [
              "float"
            ]
          },
          "metadata": {},
          "execution_count": 72
        }
      ]
    },
    {
      "cell_type": "code",
      "source": [
        "proverka1=x1>2"
      ],
      "metadata": {
        "id": "2SINQ8pR6MDI"
      },
      "execution_count": null,
      "outputs": []
    },
    {
      "cell_type": "code",
      "source": [
        "type(proverka1)"
      ],
      "metadata": {
        "colab": {
          "base_uri": "https://localhost:8080/"
        },
        "id": "Sehxw6o96Sd5",
        "outputId": "5a76f978-ed10-4977-87f3-a610b781ca18"
      },
      "execution_count": null,
      "outputs": [
        {
          "output_type": "execute_result",
          "data": {
            "text/plain": [
              "bool"
            ]
          },
          "metadata": {},
          "execution_count": 75
        }
      ]
    },
    {
      "cell_type": "code",
      "source": [
        "type(True)"
      ],
      "metadata": {
        "colab": {
          "base_uri": "https://localhost:8080/"
        },
        "id": "jDB4CWq06Uta",
        "outputId": "3c02b4d5-3c6b-46e7-c16d-2360f0a98ca0"
      },
      "execution_count": null,
      "outputs": [
        {
          "output_type": "execute_result",
          "data": {
            "text/plain": [
              "bool"
            ]
          },
          "metadata": {},
          "execution_count": 76
        }
      ]
    },
    {
      "cell_type": "code",
      "source": [
        "type(False)"
      ],
      "metadata": {
        "colab": {
          "base_uri": "https://localhost:8080/"
        },
        "id": "9fWzt1hi6ce4",
        "outputId": "91bcc80c-d0af-470a-cc3b-691b8f56d42c"
      },
      "execution_count": null,
      "outputs": [
        {
          "output_type": "execute_result",
          "data": {
            "text/plain": [
              "bool"
            ]
          },
          "metadata": {},
          "execution_count": 77
        }
      ]
    },
    {
      "cell_type": "code",
      "source": [
        "proverka1"
      ],
      "metadata": {
        "colab": {
          "base_uri": "https://localhost:8080/"
        },
        "id": "0VBTjX-46ge_",
        "outputId": "5baa4dc9-3121-417b-b809-ed15463098ba"
      },
      "execution_count": null,
      "outputs": [
        {
          "output_type": "execute_result",
          "data": {
            "text/plain": [
              "False"
            ]
          },
          "metadata": {},
          "execution_count": 78
        }
      ]
    },
    {
      "cell_type": "code",
      "source": [
        "x1"
      ],
      "metadata": {
        "colab": {
          "base_uri": "https://localhost:8080/"
        },
        "id": "x2UT706e6sBU",
        "outputId": "a67dc001-da4b-473f-8e88-9ccbb036f2e3"
      },
      "execution_count": null,
      "outputs": [
        {
          "output_type": "execute_result",
          "data": {
            "text/plain": [
              "0"
            ]
          },
          "metadata": {},
          "execution_count": 79
        }
      ]
    },
    {
      "cell_type": "code",
      "source": [
        "int(True)"
      ],
      "metadata": {
        "colab": {
          "base_uri": "https://localhost:8080/"
        },
        "id": "BW-YzBJy6tQF",
        "outputId": "0b970f7e-bf3c-4adb-d2df-19b28704d73d"
      },
      "execution_count": null,
      "outputs": [
        {
          "output_type": "execute_result",
          "data": {
            "text/plain": [
              "1"
            ]
          },
          "metadata": {},
          "execution_count": 80
        }
      ]
    },
    {
      "cell_type": "code",
      "source": [
        "int(False)"
      ],
      "metadata": {
        "colab": {
          "base_uri": "https://localhost:8080/"
        },
        "id": "BGvEMSUf600i",
        "outputId": "fedd8067-2171-4c88-9d8e-3fe7b3d0e864"
      },
      "execution_count": null,
      "outputs": [
        {
          "output_type": "execute_result",
          "data": {
            "text/plain": [
              "0"
            ]
          },
          "metadata": {},
          "execution_count": 81
        }
      ]
    },
    {
      "cell_type": "code",
      "source": [
        "type(\"Text\")"
      ],
      "metadata": {
        "colab": {
          "base_uri": "https://localhost:8080/"
        },
        "id": "yNgDA_0b64Tq",
        "outputId": "51d12c56-c50b-4650-d3cd-aa22a0035c18"
      },
      "execution_count": null,
      "outputs": [
        {
          "output_type": "execute_result",
          "data": {
            "text/plain": [
              "str"
            ]
          },
          "metadata": {},
          "execution_count": 82
        }
      ]
    },
    {
      "cell_type": "code",
      "source": [
        "str(22/2)"
      ],
      "metadata": {
        "colab": {
          "base_uri": "https://localhost:8080/",
          "height": 35
        },
        "id": "WheXQR7s69ac",
        "outputId": "5bb680f4-b83c-4e56-cf3b-0340c66f2a3a"
      },
      "execution_count": null,
      "outputs": [
        {
          "output_type": "execute_result",
          "data": {
            "text/plain": [
              "'11.0'"
            ],
            "application/vnd.google.colaboratory.intrinsic+json": {
              "type": "string"
            }
          },
          "metadata": {},
          "execution_count": 83
        }
      ]
    },
    {
      "cell_type": "code",
      "source": [
        "def distance(px1,py1,px2,py2):\n",
        "  ldx = px2-px1\n",
        "  ldy = py2-py1\n",
        "  dist= (ldx**2 + ldy**2)**(1/2)\n",
        "  return dist\n",
        "\n",
        "p1=(0,1); p2=(2,1)\n",
        "\n",
        "def p_distance(p1,p2):\n",
        "  ldx = p2[0]-p1[0]\n",
        "  ldy = p2[1]-p1[1]\n",
        "  dist= (ldx**2 + ldy**2)**(1/2)\n",
        "  return dist\n",
        "\n",
        "# positional\n",
        "print(distance(p1[0],p1[1],p2[0],p2[1]))\n",
        "print(p_distance(p1,p2))\n",
        "\n",
        "print(distance(2,3,3,2))\n",
        "\n",
        "\n",
        "\n",
        "print(distance(0,0,1,1))\n",
        "\n",
        "\n",
        "print(distance(px1=x1,py1=y1,px2=x2,py2=y2))\n",
        "# by name\n",
        "print(distance(py1=y1,py2=y2, px1=x1,px2=x2))"
      ],
      "metadata": {
        "colab": {
          "base_uri": "https://localhost:8080/"
        },
        "id": "BKEmkGWc7qMN",
        "outputId": "1cf0bf19-8324-46cd-a493-7c3b5537ac29"
      },
      "execution_count": null,
      "outputs": [
        {
          "output_type": "stream",
          "name": "stdout",
          "text": [
            "2.0\n",
            "2.0\n",
            "1.4142135623730951\n",
            "1.4142135623730951\n",
            "2.0\n",
            "2.0\n"
          ]
        }
      ]
    },
    {
      "cell_type": "code",
      "source": [
        "type(p1)"
      ],
      "metadata": {
        "colab": {
          "base_uri": "https://localhost:8080/"
        },
        "id": "kyAs22hc9xp1",
        "outputId": "f9e02602-4432-469f-d074-f38ae3959cb6"
      },
      "execution_count": null,
      "outputs": [
        {
          "output_type": "execute_result",
          "data": {
            "text/plain": [
              "tuple"
            ]
          },
          "metadata": {},
          "execution_count": 88
        }
      ]
    },
    {
      "cell_type": "code",
      "source": [],
      "metadata": {
        "id": "0gsM0WmZ9z40"
      },
      "execution_count": null,
      "outputs": []
    }
  ]
}